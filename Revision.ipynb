{
 "cells": [
  {
   "cell_type": "markdown",
   "metadata": {},
   "source": [
    "1 ) Mean Median and Mode - Adding a large value increases the Mean, no effect on Median"
   ]
  },
  {
   "cell_type": "code",
   "execution_count": 24,
   "metadata": {
    "collapsed": false
   },
   "outputs": [
    {
     "name": "stdout",
     "output_type": "stream",
     "text": [
      "('mean', 29.937091194719482)\n",
      "('median', 19.962771019622654)\n",
      "('mode', ModeResult(mode=array([ 16.98284465]), count=array([1])))\n"
     ]
    }
   ],
   "source": [
    "import numpy as np \n",
    "from scipy import stats\n",
    "\n",
    "#np.random.normal (mean, deviation, size)\n",
    "\n",
    "sample = np.random.normal(20, 1, 1000)\n",
    "sample = np.append(sample, [10000])\n",
    "print (\"mean\",np.mean(sample))\n",
    "print (\"median\",np.median(sample))\n",
    "\n",
    "print (\"mode\", stats.mode(sample))"
   ]
  },
  {
   "cell_type": "code",
   "execution_count": 10,
   "metadata": {
    "collapsed": false
   },
   "outputs": [
    {
     "data": {
      "image/png": "[encoded data removed]",
      "text/plain": [
       "<matplotlib.figure.Figure at 0x838b0b8>"
      ]
     },
     "metadata": {},
     "output_type": "display_data"
    }
   ],
   "source": [
    "%matplotlib inline \n",
    "\n",
    "import matplotlib.pyplot as plt\n",
    "plt.hist(sample)\n",
    "plt.plot()\n",
    "plt.show()\n",
    "\n",
    "\n"
   ]
  },
  {
   "cell_type": "markdown",
   "metadata": {},
   "source": [
    "1) Percentile\n",
    "2) Moments \n",
    "    1st Moment = Mean \n",
    "    2nd Moment = Variance  (Square of Std Deviation)\n",
    "    3rd Moment = Skew (how lopsided is the distribution)\n",
    "    4rth Moment = Kurtosis"
   ]
  },
  {
   "cell_type": "code",
   "execution_count": 39,
   "metadata": {
    "collapsed": false
   },
   "outputs": [
    {
     "data": {
      "image/png": "[encoded data removed]",
      "text/plain": [
       "<matplotlib.figure.Figure at 0x837f240>"
      ]
     },
     "metadata": {},
     "output_type": "display_data"
    },
    {
     "name": "stdout",
     "output_type": "stream",
     "text": [
      "('20th percentile', 3.3445693643622612)\n",
      "('50th percentile', 4.9877403855874221)\n",
      "('variance', 3.9868403097277727)\n",
      "('variance from np', 3.9868403097277727)\n",
      "('skew', 0.01894809503119331)\n",
      "('kurtosis', 0.09835701340758796)\n"
     ]
    }
   ],
   "source": [
    "sample_set_2 = np.random.normal (5,2,10000)\n",
    "plt.hist(sample_set_2)\n",
    "plt.plot()\n",
    "plt.show()\n",
    "#Value at which it is greater than 20% of the values \n",
    "print (\"20th percentile\", np.percentile(sample_set_2, 20))\n",
    "#Value at which it is greater than 50% of the values - should be close to mean \n",
    "print (\"50th percentile\", np.percentile(sample_set_2, 50))\n",
    "#variance is square of mean \n",
    "print (\"variance\", np.var(sample_set_2))\n",
    "print (\"variance from np\", sample_set_2.var())\n",
    "\n",
    "\n",
    "import scipy.stats as sp\n",
    "#skew - Look at positive or negative\n",
    "print (\"skew\", sp.skew(sample_set_2))\n",
    "#higher peaks Higher Kurtosis\n",
    "print (\"kurtosis\", sp.kurtosis(sample_set_2))\n"
   ]
  },
  {
   "cell_type": "markdown",
   "metadata": {},
   "source": [
    "CoVariance and Corelation \n",
    "CoVariance - Relation between 2 variable (0 to Inifinity)\n",
    "We need to bound this - That is where CoRelation comes in \n",
    "Corelation = (CoVariance/Std Deviation)  (-1 to 1)"
   ]
  },
  {
   "cell_type": "code",
   "execution_count": 55,
   "metadata": {
    "collapsed": false
   },
   "outputs": [
    {
     "data": {
      "image/png": "[encoded data removed]",
      "text/plain": [
       "<matplotlib.figure.Figure at 0xb740470>"
      ]
     },
     "metadata": {},
     "output_type": "display_data"
    },
    {
     "name": "stdout",
     "output_type": "stream",
     "text": [
      "('Correlation ', array([[ 1.        , -0.98251769],\n",
      "       [-0.98251769,  1.        ]]))\n",
      "('Covariance:', array([[  1.09168763e+04,  -5.11650377e+00],\n",
      "       [ -5.11650377e+00,   2.48409070e-03]]))\n"
     ]
    }
   ],
   "source": [
    "#create a linear Correlation dataSet\n",
    "#PageSpeeds Vs Purchase value\n",
    "\n",
    "pageSpeeds = np.random.normal(0.5,0.05, 10000)\n",
    "purchaseValue = np.random.normal(500,6,10000)/pageSpeeds\n",
    "\n",
    "plt.scatter(pageSpeeds, purchaseValue)\n",
    "plt.axes()\n",
    "plt.xlabel('Page Speed')\n",
    "plt.ylabel('Purchase Value')\n",
    "plt.plot()\n",
    "\n",
    "plt.show()\n",
    "#perfect correlation\n",
    "print (\"Correlation \", np.corrcoef( purchaseValue, pageSpeeds))\n",
    "\n",
    "print(\"Covariance:\",np.cov( purchaseValue, pageSpeeds))\n"
   ]
  },
  {
   "cell_type": "markdown",
   "metadata": {},
   "source": [
    "Bayes Theorem \n",
    "\n",
    "P(A/B) = (P(A) * P(B/A)) / P(B) \n",
    "\n",
    "Event A = User of Drug \n",
    "Event B = User Tested Positive\n",
    "\n",
    "P(A)  = 0.3%\n",
    "P(B/A) = 99% \n",
    "What about P(A/B) \n",
    "P(B)  = 0.99*0.003 + 0.99* (1-0.003) = 0.0129 (Probability of Testing if you are a user + Probability of Testing if you are not a user)\n",
    "\n",
    "P(A/B) = (0.3*0.99)/0.0129 = 0.23 \n",
    "So only 23% of users tested positive can be users"
   ]
  },
  {
   "cell_type": "markdown",
   "metadata": {},
   "source": [
    "Predictive Models \n",
    "\n",
    "Linear Regression  - Using Least Squared (Minimises the squared error between predicted and actual)\n",
    "Poly Regression \n",
    "Multivariate Regression "
   ]
  },
  {
   "cell_type": "code",
   "execution_count": 64,
   "metadata": {
    "collapsed": false
   },
   "outputs": [
    {
     "name": "stdout",
     "output_type": "stream",
     "text": [
      "('Rsquared ', 1.9999999999999998)\n"
     ]
    },
    {
     "data": {
      "image/png": "[encoded data removed]",
      "text/plain": [
       "<matplotlib.figure.Figure at 0x8b0e9e8>"
      ]
     },
     "metadata": {},
     "output_type": "display_data"
    },
    {
     "name": "stdout",
     "output_type": "stream",
     "text": [
      "('r_square_sk_Metrics', 1.0)\n"
     ]
    }
   ],
   "source": [
    "#Data Preparation \n",
    "#PageSpeed, PurchaseValue Linear Relation \n",
    "\n",
    "pageSpeeds = np.random.normal(0.5, 0.01, 10000)\n",
    "purchaseValue  = 100 - pageSpeeds\n",
    "\n",
    "from scipy import stats\n",
    "slope, intercept, r_value, pvalue, std_erro = stats.linregress(pageSpeeds, purchaseValue)\n",
    "\n",
    "#This is not normalized - Used sk_metrics for normalization \n",
    "print (\"Rsquared \", abs(r_value*2))\n",
    "\n",
    "\n",
    "\n",
    "def calculateYfromX(x_values):\n",
    "    return slope*x_values + intercept\n",
    "\n",
    "purchase_value_predicted = calculateYfromX(pageSpeeds)\n",
    "\n",
    "plt.scatter(pageSpeeds,purchaseValue)\n",
    "plt.plot(pageSpeeds, purchase_value_predicted, c='r')\n",
    "plt.show()\n",
    "\n",
    "\n",
    "from sklearn.metrics import r2_score\n",
    "print (\"r_square_sk_Metrics\", r2_score(purchaseValue,purchase_value_predicted))"
   ]
  },
  {
   "cell_type": "code",
   "execution_count": 92,
   "metadata": {
    "collapsed": false
   },
   "outputs": [
    {
     "name": "stdout",
     "output_type": "stream",
     "text": [
      "('max_Value', 12.108692623805201)\n",
      "         3         2\n",
      "-0.2805 x + 8.871 x - 103.6 x + 529.8\n"
     ]
    },
    {
     "data": {
      "image/png": "[encoded data removed]",
      "text/plain": [
       "<matplotlib.figure.Figure at 0xef90438>"
      ]
     },
     "metadata": {},
     "output_type": "display_data"
    },
    {
     "name": "stdout",
     "output_type": "stream",
     "text": [
      "('RSquared is: ', 0.95063659625340136)\n"
     ]
    }
   ],
   "source": [
    "#PolyRegression \n",
    "np.random.seed(2)\n",
    "#Create a non linear relation \n",
    "pageSpeed = np.random.normal(8.0,1.0, 1000)\n",
    "print (\"max_Value\" ,pageSpeed.max())\n",
    "purchaseValue = np.random.normal(1000,30,1000)/pageSpeed\n",
    "#plt.hist(purchaseValue)\n",
    "#plt.hist(pageSpeed)\n",
    "\n",
    "\n",
    "plt.scatter(pageSpeed,purchaseValue)\n",
    "\n",
    "p3 = np.poly1d(np.polyfit(pageSpeed,purchaseValue,3))\n",
    "print p3\n",
    "\n",
    "#pick 5000 samples\n",
    "pageSpeed_sample = np.linspace(0,12,5000)\n",
    "plt.plot(pageSpeed_sample,p3(pageSpeed_sample),'r+')\n",
    "plt.show()\n",
    "\n",
    "#This looks pretty neat.. Lets look in terms of r2\n",
    "from sklearn.metrics import r2_score\n",
    "\n",
    "r2 = r2_score(purchaseValue,p3(pageSpeed))\n",
    "print(\"RSquared is: \", r2)\n",
    "#pretty good"
   ]
  },
  {
   "cell_type": "code",
   "execution_count": null,
   "metadata": {
    "collapsed": true
   },
   "outputs": [],
   "source": []
  }
 ],
 "metadata": {
  "kernelspec": {
   "display_name": "Python 2",
   "language": "python",
   "name": "python2"
  },
  "language_info": {
   "codemirror_mode": {
    "name": "ipython",
    "version": 2
   },
   "file_extension": ".py",
   "mimetype": "text/x-python",
   "name": "python",
   "nbconvert_exporter": "python",
   "pygments_lexer": "ipython2",
   "version": "2.7.11"
  }
 },
 "nbformat": 4,
 "nbformat_minor": 0
}

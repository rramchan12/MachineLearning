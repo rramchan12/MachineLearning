{
 "cells": [
  {
   "cell_type": "code",
   "execution_count": 1,
   "metadata": {
    "collapsed": false
   },
   "outputs": [
    {
     "data": {
      "text/html": [
       "<div>\n",
       "<table border=\"1\" class=\"dataframe\">\n",
       "  <thead>\n",
       "    <tr style=\"text-align: right;\">\n",
       "      <th></th>\n",
       "      <th>user_id</th>\n",
       "      <th>movie_id</th>\n",
       "      <th>rating</th>\n",
       "    </tr>\n",
       "  </thead>\n",
       "  <tbody>\n",
       "    <tr>\n",
       "      <th>0</th>\n",
       "      <td>0</td>\n",
       "      <td>50</td>\n",
       "      <td>5</td>\n",
       "    </tr>\n",
       "    <tr>\n",
       "      <th>1</th>\n",
       "      <td>0</td>\n",
       "      <td>172</td>\n",
       "      <td>5</td>\n",
       "    </tr>\n",
       "    <tr>\n",
       "      <th>2</th>\n",
       "      <td>0</td>\n",
       "      <td>133</td>\n",
       "      <td>1</td>\n",
       "    </tr>\n",
       "    <tr>\n",
       "      <th>3</th>\n",
       "      <td>196</td>\n",
       "      <td>242</td>\n",
       "      <td>3</td>\n",
       "    </tr>\n",
       "    <tr>\n",
       "      <th>4</th>\n",
       "      <td>186</td>\n",
       "      <td>302</td>\n",
       "      <td>3</td>\n",
       "    </tr>\n",
       "  </tbody>\n",
       "</table>\n",
       "</div>"
      ],
      "text/plain": [
       "   user_id  movie_id  rating\n",
       "0        0        50       5\n",
       "1        0       172       5\n",
       "2        0       133       1\n",
       "3      196       242       3\n",
       "4      186       302       3"
      ]
     },
     "execution_count": 1,
     "metadata": {},
     "output_type": "execute_result"
    }
   ],
   "source": [
    "import pandas as pd\n",
    "\n",
    "r_cols = ['user_id', 'movie_id', 'rating']\n",
    "ratings_df = pd.read_csv(\"C:/Users/212412835/Documents/Notebooks/ml-100k/u.data\",sep='\\t', names=r_cols, usecols=range(3))\n",
    "ratings_df.head()"
   ]
  },
  {
   "cell_type": "code",
   "execution_count": 2,
   "metadata": {
    "collapsed": false
   },
   "outputs": [
    {
     "name": "stdout",
     "output_type": "stream",
     "text": [
      "         rating          \n",
      "           size      mean\n",
      "movie_id                 \n",
      "1           452  3.878319\n",
      "2           131  3.206107\n",
      "3            90  3.033333\n",
      "4           209  3.550239\n",
      "5            86  3.302326\n"
     ]
    }
   ],
   "source": [
    "#group this by movie_id and aggregate by rating \n",
    "\n",
    "import numpy as np\n",
    "\n",
    "movie_ratings_df = ratings_df.groupby('movie_id').agg({'rating': [np.size, np.mean]})\n",
    "print(movie_ratings_df.head());"
   ]
  },
  {
   "cell_type": "code",
   "execution_count": 3,
   "metadata": {
    "collapsed": false
   },
   "outputs": [
    {
     "data": {
      "text/html": [
       "<div>\n",
       "<table border=\"1\" class=\"dataframe\">\n",
       "  <thead>\n",
       "    <tr style=\"text-align: right;\">\n",
       "      <th></th>\n",
       "      <th>size</th>\n",
       "    </tr>\n",
       "    <tr>\n",
       "      <th>movie_id</th>\n",
       "      <th></th>\n",
       "    </tr>\n",
       "  </thead>\n",
       "  <tbody>\n",
       "    <tr>\n",
       "      <th>1</th>\n",
       "      <td>0.773585</td>\n",
       "    </tr>\n",
       "    <tr>\n",
       "      <th>2</th>\n",
       "      <td>0.222985</td>\n",
       "    </tr>\n",
       "    <tr>\n",
       "      <th>3</th>\n",
       "      <td>0.152659</td>\n",
       "    </tr>\n",
       "    <tr>\n",
       "      <th>4</th>\n",
       "      <td>0.356775</td>\n",
       "    </tr>\n",
       "    <tr>\n",
       "      <th>5</th>\n",
       "      <td>0.145798</td>\n",
       "    </tr>\n",
       "  </tbody>\n",
       "</table>\n",
       "</div>"
      ],
      "text/plain": [
       "              size\n",
       "movie_id          \n",
       "1         0.773585\n",
       "2         0.222985\n",
       "3         0.152659\n",
       "4         0.356775\n",
       "5         0.145798"
      ]
     },
     "execution_count": 3,
     "metadata": {},
     "output_type": "execute_result"
    }
   ],
   "source": [
    "#Lets normalize the NO of ratings - 0 Means nobody has rated it, 1 means everybody has rated it\n",
    "\n",
    "movie_ratings = pd.DataFrame(movie_ratings_df['rating']['size'])\n",
    "movie_ratings.head()\n",
    "movie_ratings_normalized_df = movie_ratings.apply(lambda x: (x - np.min(x))/(np.max(x)-np.min(x)))\n",
    "movie_ratings_normalized_df.head()"
   ]
  },
  {
   "cell_type": "code",
   "execution_count": 4,
   "metadata": {
    "collapsed": false
   },
   "outputs": [],
   "source": [
    "# Lets construct a dict with a set of big fat data \n",
    "# there are 19 genres - 0 means its in the genre, 1 means its not in the genre\n",
    "# Dict will contain - movie name, list of genres, Normalized no of ratings(indication of popularity), Avg rating of the movie \n",
    "\n",
    "movieDict = {}\n",
    "with open(r'C:/Users/212412835/Documents/Notebooks/Machine Learning/ml-100k/u.item') as f:\n",
    "    for line in f:\n",
    "        fields = line.rstrip('\\n').split('|')\n",
    "        movieID = int(fields[0])\n",
    "        movieName = fields[1]\n",
    "        genres = fields[5:25]\n",
    "        genres = map(int, genres)\n",
    "        movieDict[movieID] = (movieName,genres, movie_ratings_normalized_df.loc[movieID].get('size'),movie_ratings_df.loc[movieID].rating.get('mean'))\n",
    "        \n",
    "        "
   ]
  },
  {
   "cell_type": "code",
   "execution_count": 5,
   "metadata": {
    "collapsed": false
   },
   "outputs": [
    {
     "data": {
      "text/plain": [
       "('Toy Story (1995)',\n",
       " [0, 0, 0, 1, 1, 1, 0, 0, 0, 0, 0, 0, 0, 0, 0, 0, 0, 0, 0],\n",
       " 0.77358490566037741,\n",
       " 3.8783185840707963)"
      ]
     },
     "execution_count": 5,
     "metadata": {},
     "output_type": "execute_result"
    }
   ],
   "source": [
    "movieDict[1]"
   ]
  },
  {
   "cell_type": "code",
   "execution_count": 6,
   "metadata": {
    "collapsed": false
   },
   "outputs": [
    {
     "name": "stdout",
     "output_type": "stream",
     "text": [
      "0.800457404231\n"
     ]
    }
   ],
   "source": [
    "#Now let's define a function that computes the \"distance\" between two movies based on how similar their genres are, \n",
    "#and how similar their popularity is. Just to make sure it works, we'll compute the distance between movie ID's 2 and 4:\n",
    "\n",
    "from scipy import spatial\n",
    "\n",
    "def ComputeDistance(a,b):\n",
    "    genresA = a[1]\n",
    "    genresB = b[1]\n",
    "    genresDistance = spatial.distance.cosine(genresA, genresB)\n",
    "    popularityA = a[2]\n",
    "    popularityB= b[2]\n",
    "    popularityDistance = abs(popularityB-popularityA)\n",
    "    return genresDistance + popularityDistance\n",
    "\n",
    "print(ComputeDistance(movieDict[2],movieDict[4]))"
   ]
  },
  {
   "cell_type": "code",
   "execution_count": 7,
   "metadata": {
    "collapsed": false
   },
   "outputs": [
    {
     "name": "stdout",
     "output_type": "stream",
     "text": [
      "('GoldenEye (1995)', [0, 1, 1, 0, 0, 0, 0, 0, 0, 0, 0, 0, 0, 0, 0, 0, 1, 0, 0], 0.22298456260720412, 3.2061068702290076)\n",
      "('Get Shorty (1995)', [0, 1, 0, 0, 0, 1, 0, 0, 1, 0, 0, 0, 0, 0, 0, 0, 0, 0, 0], 0.35677530017152659, 3.5502392344497609)\n"
     ]
    }
   ],
   "source": [
    "#Higher the distance - Less similar the movies \n",
    "print movieDict[2]\n",
    "print movieDict[4]\n"
   ]
  },
  {
   "cell_type": "code",
   "execution_count": 14,
   "metadata": {
    "collapsed": false
   },
   "outputs": [
    {
     "name": "stdout",
     "output_type": "stream",
     "text": [
      "[294, 95, 151, 168, 269, 259, 240, 25, 94, 422]\n",
      "Liar Liar (1997) 3.15670103093\n",
      "Aladdin (1992) 3.81278538813\n",
      "Willy Wonka and the Chocolate Factory (1971) 3.63190184049\n",
      "Monty Python and the Holy Grail (1974) 4.0664556962\n",
      "Full Monty, The (1997) 3.92698412698\n",
      "George of the Jungle (1997) 2.68518518519\n",
      "Beavis and Butt-head Do America (1996) 2.78846153846\n",
      "Birdcage, The (1996) 3.44368600683\n",
      "Home Alone (1990) 3.08759124088\n",
      "Aladdin and the King of Thieves (1996) 2.84615384615\n"
     ]
    }
   ],
   "source": [
    "#Now lets use this \n",
    "#For any given movie, we will find out KNN of the same. Then we will compare the avg rating of the KNN results,\n",
    "#with the rating of the movie. If the KNN are similar then the ratings will be the same \n",
    "import operator\n",
    "\n",
    "def findNeighbours(movieID, K):\n",
    "    distances = []\n",
    "    for movie in movieDict:\n",
    "        if(movie != movieID):\n",
    "            dist = ComputeDistance(movieDict[movie],movieDict[movieID])\n",
    "            distances.append((movie,dist))\n",
    "            \n",
    "            \n",
    "    distances.sort(key=operator.itemgetter(1))\n",
    "    neighbours = []\n",
    "    \n",
    "    for x in range(K):\n",
    "        neighbours.append(distances[x][0])\n",
    "    return neighbours\n",
    "    \n",
    "\n",
    "K=10\n",
    "avgRating = 0\n",
    "neighbours = findNeighbours(1,K)\n",
    "print(neighbours)\n",
    "\n",
    "for neighbour in neighbours:\n",
    "    avgRating += movieDict[neighbour][3]\n",
    "    print movieDict[neighbour][0] + \" \" + str(movieDict[neighbour][3])\n",
    "    \n",
    "\n",
    "avgRating /= float(K)"
   ]
  },
  {
   "cell_type": "code",
   "execution_count": 15,
   "metadata": {
    "collapsed": false
   },
   "outputs": [
    {
     "data": {
      "text/plain": [
       "3.3445905900235564"
      ]
     },
     "execution_count": 15,
     "metadata": {},
     "output_type": "execute_result"
    }
   ],
   "source": [
    "#The avg rating is \n",
    "\n",
    "avgRating"
   ]
  },
  {
   "cell_type": "code",
   "execution_count": 16,
   "metadata": {
    "collapsed": false
   },
   "outputs": [
    {
     "data": {
      "text/plain": [
       "('Toy Story (1995)',\n",
       " [0, 0, 0, 1, 1, 1, 0, 0, 0, 0, 0, 0, 0, 0, 0, 0, 0, 0, 0],\n",
       " 0.77358490566037741,\n",
       " 3.8783185840707963)"
      ]
     },
     "execution_count": 16,
     "metadata": {},
     "output_type": "execute_result"
    }
   ],
   "source": [
    "#How does this compare to Toy Story's actual average rating?\n",
    "\n",
    "movieDict[1]"
   ]
  },
  {
   "cell_type": "code",
   "execution_count": null,
   "metadata": {
    "collapsed": true
   },
   "outputs": [],
   "source": []
  }
 ],
 "metadata": {
  "kernelspec": {
   "display_name": "Python 2",
   "language": "python",
   "name": "python2"
  },
  "language_info": {
   "codemirror_mode": {
    "name": "ipython",
    "version": 2
   },
   "file_extension": ".py",
   "mimetype": "text/x-python",
   "name": "python",
   "nbconvert_exporter": "python",
   "pygments_lexer": "ipython2",
   "version": "2.7.11"
  }
 },
 "nbformat": 4,
 "nbformat_minor": 0
}

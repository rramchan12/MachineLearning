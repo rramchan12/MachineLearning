{
 "cells": [
  {
   "cell_type": "code",
   "execution_count": 29,
   "metadata": {
    "collapsed": false
   },
   "outputs": [
    {
     "data": {
      "text/plain": [
       "27005.767076667671"
      ]
     },
     "execution_count": 29,
     "metadata": {},
     "output_type": "execute_result"
    }
   ],
   "source": [
    "import numpy as np\n",
    "\n",
    "incomes = np.random.normal(27000, 36, 20)\n",
    "np.mean(incomes)"
   ]
  },
  {
   "cell_type": "code",
   "execution_count": 28,
   "metadata": {
    "collapsed": false
   },
   "outputs": [
    {
     "data": {
      "text/plain": [
       "array([ 26968.05390321,  27012.56926494,  27013.87739534,  27001.31575316,\n",
       "        27061.45539086,  26997.05716059,  27040.40613215,  26999.49535771,\n",
       "        26985.39495723,  27036.43935586,  26973.0199649 ,  27014.33390149,\n",
       "        26933.5595546 ,  27007.5165049 ,  27048.07277279,  26971.01269836,\n",
       "        27016.83510697,  27040.74605448,  26986.11905391,  26994.16909545])"
      ]
     },
     "execution_count": 28,
     "metadata": {},
     "output_type": "execute_result"
    }
   ],
   "source": [
    "incomes"
   ]
  },
  {
   "cell_type": "code",
   "execution_count": 30,
   "metadata": {
    "collapsed": false
   },
   "outputs": [
    {
     "data": {
      "image/png": "[encoded data removed]",
      "text/plain": [
       "<matplotlib.figure.Figure at 0x8508e48>"
      ]
     },
     "metadata": {},
     "output_type": "display_data"
    }
   ],
   "source": [
    "%matplotlib inline\n",
    "\n",
    "import matplotlib.pyplot as plt\n",
    "plt.hist(incomes,50)\n",
    "plt.show()\n",
    "    "
   ]
  },
  {
   "cell_type": "code",
   "execution_count": 31,
   "metadata": {
    "collapsed": false
   },
   "outputs": [
    {
     "data": {
      "text/plain": [
       "27000.959831203698"
      ]
     },
     "execution_count": 31,
     "metadata": {},
     "output_type": "execute_result"
    }
   ],
   "source": [
    "np.median(incomes)"
   ]
  },
  {
   "cell_type": "code",
   "execution_count": 37,
   "metadata": {
    "collapsed": false
   },
   "outputs": [
    {
     "data": {
      "text/plain": [
       "27000.959831203698"
      ]
     },
     "execution_count": 37,
     "metadata": {},
     "output_type": "execute_result"
    }
   ],
   "source": [
    "np.append(incomes, [10000000000000])\n",
    "np.median(incomes)"
   ]
  },
  {
   "cell_type": "code",
   "execution_count": 36,
   "metadata": {
    "collapsed": false
   },
   "outputs": [
    {
     "data": {
      "text/plain": [
       "27005.767076667671"
      ]
     },
     "execution_count": 36,
     "metadata": {},
     "output_type": "execute_result"
    }
   ],
   "source": [
    "np.mean(incomes)"
   ]
  },
  {
   "cell_type": "code",
   "execution_count": 3,
   "metadata": {
    "collapsed": false
   },
   "outputs": [
    {
     "data": {
      "text/plain": [
       "array([22440, 21139, 39795, 25086, 23144, 31702, 34894,  3069, 36858,\n",
       "       16539, 37525,  5096,   836, 22340, 49426, 46542,  5354, 24886,\n",
       "       42455, 26220, 35861, 48166, 39049, 37424, 10448, 13289, 34458,\n",
       "       33232, 11438, 16362, 37463, 24784, 49315, 27630, 11380, 24671,\n",
       "       18103, 47480,  2599, 13320, 29621, 39874,  4248, 27622, 29471,\n",
       "       47241,  6772, 11853, 27355, 10539,  8075, 14207,  7205, 12356,\n",
       "       31051, 19195, 44531, 19186, 15913, 49992,  7982, 44665, 21176,\n",
       "       37508,  9712, 16094,  1991, 15295, 20934, 46978, 23256, 38985,\n",
       "       44633,   154, 12167,   206, 39848, 20826, 14302, 49580,  2715,\n",
       "        5525, 12798, 31432, 31714, 21588, 16360, 49611, 24368, 29439,\n",
       "       23806, 20146,  8973, 18908, 27900,  6810, 44231, 38645, 47523,\n",
       "       19812, 39206, 42624, 29009,   700, 19857,  9430, 27880, 46635,\n",
       "       27918, 38350, 41408, 10376, 38798, 21368, 39752, 15887, 41101,\n",
       "       24484,  8664, 41544, 36979, 36298, 40825, 36653, 28422, 46790,\n",
       "       15544,  4693, 46927,  5560, 29870, 31770, 32167, 45383, 26879,\n",
       "       23486, 18346, 38618, 11154,  5167,  1623, 16083, 32052,  5214,\n",
       "       44044, 48179, 49323, 19174, 27720, 45591, 40575, 23535,  9337,\n",
       "        4092, 38656, 20354, 34444,   256, 15842, 29040, 46951,   112,\n",
       "       19147, 19563, 48821, 48923, 47274, 45045,  5458, 14982, 14229,\n",
       "       34238, 20110,   246, 20711, 25033, 40016, 42270, 35916,  5455,\n",
       "        6670, 41329, 36831,  1681, 32672,  7756, 42926, 16510, 33809,\n",
       "       12950, 15150,  3856,  6144, 20690, 21110, 22847, 13217, 46778,\n",
       "        6901, 10849, 47907, 45101,  4637, 37904, 15713,  9525, 46229,\n",
       "       48015,   367, 30067, 28062, 16836, 15723, 17306, 12194,  7806,\n",
       "       18759, 44471,  6944, 30037, 29036, 21978, 46930,  8131, 35801,\n",
       "       42846, 20165, 11800,  6227, 20372, 40327,  1805, 10738,  8509,\n",
       "       44531, 48839, 47242, 25303,  3114, 40833,  5536,  5828, 45244,\n",
       "       13942, 39181, 10845, 28676, 30756,  8992, 31649,  2169, 28995,\n",
       "        8436, 21436, 44942, 32053,  7047, 16683, 16022, 22790, 16892,\n",
       "       12756, 42836, 44963, 15631,  8577, 30985, 12532,  2713,  1223,\n",
       "       21826, 20835, 23347, 44005, 14030,  1063, 17138, 11606, 30771,\n",
       "       45056, 36587, 43611, 40442, 30825, 15910, 45652, 45953, 33225,\n",
       "       33328, 30618, 31238, 43071, 16881,  8493, 42460, 43546, 35580,\n",
       "        6283,   257, 24595, 16468, 41352,  1815, 26712, 27311, 49158,\n",
       "       36712, 33477, 37961, 25447, 11431, 31995, 30375,  7076, 46591,\n",
       "       22433, 17653, 13542, 23943, 17368, 34545, 31213, 33110, 28882,\n",
       "       39451,  6287, 27469, 14925,  8674, 15417, 47904, 27896,  6617,\n",
       "       36727, 41078, 22628,  2733, 48963, 33964,  9693,  2040,  2633,\n",
       "       30500, 29837, 11133, 41202,  4532, 19431,  6956, 11050, 39377,\n",
       "       12486, 42130, 37432, 30504, 44364, 26571,  2482, 42452, 38569,\n",
       "       13954, 43806, 10719,  4374, 18478, 35375, 23490, 15591, 39935,\n",
       "       19494,   220,   782, 15072, 32963, 47957, 12348,  1508,  6723,\n",
       "       36067,  2881, 36694, 31948, 14498, 15323, 38617, 48657,  4267,\n",
       "       30416,  8573, 23239, 35443, 33651, 10815, 21216, 17697,  6302,\n",
       "        5595, 46550, 23394, 37006, 34337, 16759,  8664, 49251, 10148,\n",
       "       42673,  1533,   601, 33764, 16549, 23049, 27323, 42158, 40991,\n",
       "       41451, 17537, 32667, 11555, 20242, 34623, 45598, 18153, 36792,\n",
       "       24138, 32617, 29724, 36062,  9099,  8112, 11145, 10220, 47859,\n",
       "       27499, 27796, 34452, 41851,  3063, 33100, 46885, 26240,  2413,\n",
       "       20093, 25803, 25216,  7004, 39329, 31090, 21920, 12487, 35630,\n",
       "       21051, 43739, 30975, 15795, 12260, 44322, 24219,  5277, 47275,\n",
       "       39615,   983, 16735, 19459, 40495, 48455,  9359,  6837, 13994,\n",
       "       21412, 37437, 22726, 36038, 21893, 39816, 32382, 19671, 40148,\n",
       "       10368, 13123,  2529, 48549,  2135, 26101, 14933, 28986,  3878,\n",
       "       39700, 34024, 42693, 22393, 21876, 26401, 21733, 40898, 19047,\n",
       "        1397, 23471, 31706, 28122, 39796, 14349, 34866, 31288, 38211,\n",
       "       25073, 35467, 24476, 33970,  9543, 31013, 48481, 24097, 22911,\n",
       "        2265, 14138, 31170, 33175, 10452, 29926, 12861, 33521, 13027,\n",
       "       28037, 32175,  4357, 34511, 31916, 22181, 13273, 34428, 29964,\n",
       "       12885, 21932,  5928, 13750, 21870, 13093, 14706, 47988,  8325,\n",
       "       24388,  2995, 35667, 41132, 14334, 15997, 16985, 11212, 23605,\n",
       "       47033,  1176, 10017, 35281, 16704,  9228, 25577,  3586, 38552,\n",
       "        5608, 11842, 28235, 46113, 36822, 39265, 28110, 23184, 12522,\n",
       "       47586,  6911, 39804, 45259, 12310, 36327, 20885, 45190, 10665,\n",
       "       39914, 16218, 37783,  5009, 48161, 49733,  5172, 17739, 19444,\n",
       "       27846, 41120,  3723, 18753, 48638, 33526, 20308, 23651, 14948,\n",
       "       39371, 19736, 39227,  7461,   949, 29174, 27452, 31438, 48099,\n",
       "       22987, 39764, 23791, 32320, 37623, 17073, 40235, 13165, 16772,\n",
       "        4628,  5701, 29229,  3054,  8335, 24559, 20091, 31940, 25459,\n",
       "        1037, 16958, 18731, 32823, 40276, 15261, 12435, 36766,  3752,\n",
       "        3215, 45540, 10625, 45028, 23047,  1746, 47452, 42177,  4253,\n",
       "       11055, 22737, 20795, 33040, 29344, 34675, 22651,   352, 24681,\n",
       "       31694, 25550, 38666, 30838, 28259, 28610, 48729, 15061, 17009,\n",
       "       30280,  6264, 20167, 39317, 44293, 38301, 35315,  4384, 24538,\n",
       "       28952, 26909, 49716,  1128, 25126,  6064, 36254, 35473, 15346,\n",
       "       11353,  2051,  3922, 47087, 33123, 24115, 28333, 43148, 48327,\n",
       "        9152, 46258, 45288, 19027, 33440, 30163, 29584, 17036, 46158,\n",
       "       12483, 30987, 34996, 45227,  8695,  9240, 43663, 23686,  4080,\n",
       "       39115,  4187, 41417, 16371, 40941, 14079, 47023, 20406,  7018,\n",
       "       28309, 26734, 17071,  6510, 34174, 45697, 35769, 39993, 29383,\n",
       "       29424, 42266,  6076, 43800, 37642, 30172,  7980, 49713,  2777,\n",
       "       19892, 16218,  8454, 49524,  2064, 27181, 47252, 17193, 21284,\n",
       "       49376,  4923, 41139, 43503, 37194, 32085, 14614, 41571, 34939,\n",
       "        3515,  5091, 25572, 37064, 36546, 34771, 16925, 11844,  2998,\n",
       "       22243, 28402, 28671, 10144, 29080, 19207,  5302,  5675, 24173,\n",
       "       24929, 16668, 32675, 48123, 10310, 48244, 40586,  8440, 42426,\n",
       "        1414, 26206, 47099, 20179, 42621, 32203, 34279,  6686,  8739,\n",
       "       49876, 20808, 10076,  3682, 30585,  6133, 17019, 23717, 29102,\n",
       "       18730, 41200, 12431, 25259, 43853, 49484, 35469, 29263,  2718,\n",
       "       20295,  5835, 26440, 21372, 41353, 18582, 17725, 47762, 24513,\n",
       "       34215,  5006,  8278, 18855, 35596, 37837, 33792, 43548, 22346,\n",
       "       12641, 47843, 17843,  6583, 12253, 22897, 17943, 32339, 34348,\n",
       "       27312,  3753, 49441, 47777, 20975, 24980, 15858, 49786, 47715,\n",
       "       11507,   336,   287, 31073, 40237, 20264, 37858, 49244, 26174,\n",
       "         610,  4949, 41573, 12368, 27857, 12642, 34139, 27328, 39688,\n",
       "        1188, 31918, 49370, 38020, 38949, 49890, 26222, 44885, 37854,\n",
       "       20284, 16160, 34624, 26895, 30511, 36648, 48109, 12871, 13585,\n",
       "       35266,  2625, 21468,  1443, 49270, 23453, 49003, 10454,  6976,\n",
       "       38141, 43434, 22572, 29612, 20580, 34370, 44774, 32027, 38587,\n",
       "       28928, 17920, 29035,  8712, 48531, 19820, 48366, 20682,  3824,\n",
       "       26729, 38533, 15990, 30942, 35101, 30770,  2785, 16775,  8206,\n",
       "       46582, 31569, 30338, 37062,  5695, 33335, 47962,  6967, 11280,\n",
       "       40266,  8350, 13012, 26592, 20104,  2019, 13803, 38964, 34504,\n",
       "       11270, 29191, 35812, 21181, 20501,  4933, 34859, 41377, 33047,\n",
       "       41058,  4262, 49162, 45493,  8138, 31579, 22829,  7040, 31153,\n",
       "        7787, 12117, 33358,  1521, 37424, 30122, 41317, 15971, 34066,\n",
       "       49090, 23499, 42061, 21483, 29174, 16280, 23418, 46761, 15736,\n",
       "       15012, 10653, 35735, 23554, 13052, 12951,  9793, 49620, 22621,\n",
       "        5552, 15780, 25488, 33581, 36026, 32600, 21932, 43821, 38491,\n",
       "       24731, 43957,  9230, 11119, 28522, 10421, 19031,  1642, 38381,\n",
       "       16482, 41229, 29577,  9418,  1456, 19839, 32781, 21883, 49695, 34492])"
      ]
     },
     "execution_count": 3,
     "metadata": {},
     "output_type": "execute_result"
    }
   ],
   "source": [
    "import numpy as np\n",
    "randInts = np.random.randint(50, 50000, 1000)\n",
    "randInts\n"
   ]
  },
  {
   "cell_type": "code",
   "execution_count": 39,
   "metadata": {
    "collapsed": false
   },
   "outputs": [
    {
     "data": {
      "text/plain": [
       "ModeResult(mode=array([2282]), count=array([2]))"
      ]
     },
     "execution_count": 39,
     "metadata": {},
     "output_type": "execute_result"
    }
   ],
   "source": [
    "from scipy import stats\n",
    "pristats.mode(randInts)"
   ]
  },
  {
   "cell_type": "code",
   "execution_count": 8,
   "metadata": {
    "collapsed": false
   },
   "outputs": [
    {
     "data": {
      "image/png": "[encoded data removed]",
      "text/plain": [
       "<matplotlib.figure.Figure at 0x7e63f60>"
      ]
     },
     "metadata": {},
     "output_type": "display_data"
    }
   ],
   "source": [
    "import numpy as np\n",
    "\n",
    "%matplotlib inline\n",
    "\n",
    "incomes = np.random.normal(100, 100, 10000)\n",
    "import matplotlib.pyplot as plt\n",
    "\n",
    "plt.hist(incomes,50)\n",
    "plt.show()\n",
    "\n",
    "\n"
   ]
  },
  {
   "cell_type": "code",
   "execution_count": 9,
   "metadata": {
    "collapsed": false
   },
   "outputs": [
    {
     "data": {
      "text/plain": [
       "99.533603268957506"
      ]
     },
     "execution_count": 9,
     "metadata": {},
     "output_type": "execute_result"
    }
   ],
   "source": [
    "incomes.mean()"
   ]
  },
  {
   "cell_type": "code",
   "execution_count": 12,
   "metadata": {
    "collapsed": false
   },
   "outputs": [
    {
     "data": {
      "text/plain": [
       "10190.231916116665"
      ]
     },
     "execution_count": 12,
     "metadata": {},
     "output_type": "execute_result"
    }
   ],
   "source": [
    "\n",
    "incomes.var()"
   ]
  },
  {
   "cell_type": "markdown",
   "metadata": {},
   "source": [
    "So Variance is the Square of the mean"
   ]
  },
  {
   "cell_type": "code",
   "execution_count": 13,
   "metadata": {
    "collapsed": false
   },
   "outputs": [
    {
     "data": {
      "image/png": "[encoded data removed]",
      "text/plain": [
       "<matplotlib.figure.Figure at 0x8f26358>"
      ]
     },
     "metadata": {},
     "output_type": "display_data"
    }
   ],
   "source": [
    "import numpy as np\n",
    "%matplotlib inline\n",
    "\n",
    "import matplotlib.pyplot as plt\n",
    "\n",
    "mu = 0\n",
    "sigma = 1\n",
    "incomes = np.random.normal(mu, sigma, 10000)\n",
    "plt.hist(incomes, 50)\n",
    "plt.show()"
   ]
  },
  {
   "cell_type": "code",
   "execution_count": 14,
   "metadata": {
    "collapsed": false
   },
   "outputs": [
    {
     "data": {
      "text/plain": [
       "0.0068298463255367231"
      ]
     },
     "execution_count": 14,
     "metadata": {},
     "output_type": "execute_result"
    }
   ],
   "source": [
    "np.percentile(incomes,50)"
   ]
  },
  {
   "cell_type": "code",
   "execution_count": 15,
   "metadata": {
    "collapsed": false
   },
   "outputs": [
    {
     "data": {
      "text/plain": [
       "1.3071826934376243"
      ]
     },
     "execution_count": 15,
     "metadata": {},
     "output_type": "execute_result"
    }
   ],
   "source": [
    "np.percentile(incomes, 90)"
   ]
  },
  {
   "cell_type": "markdown",
   "metadata": {
    "collapsed": true
   },
   "source": [
    "Covariance and Corelation"
   ]
  },
  {
   "cell_type": "code",
   "execution_count": 15,
   "metadata": {
    "collapsed": false
   },
   "outputs": [
    {
     "name": "stdout",
     "output_type": "stream",
     "text": [
      "--------------------------\n"
     ]
    },
    {
     "data": {
      "text/plain": [
       "-1.3866053583416074"
      ]
     },
     "execution_count": 15,
     "metadata": {},
     "output_type": "execute_result"
    },
    {
     "data": {
      "image/png": "[encoded data removed]",
      "text/plain": [
       "<matplotlib.figure.Figure at 0x9131e48>"
      ]
     },
     "metadata": {},
     "output_type": "display_data"
    }
   ],
   "source": [
    "%matplotlib inline\n",
    "\n",
    "import numpy as np\n",
    "from pylab import *\n",
    "\n",
    "def de_mean (x):\n",
    "    xmean = mean(x)\n",
    "    z =  [xi - xmean for xi in x]\n",
    "    #print z\n",
    "    return z\n",
    "\n",
    "def covariance (x, y):\n",
    "    n = len(x)\n",
    "    #print x\n",
    "    print (\"--------------------------\")\n",
    "    #print y\n",
    "    y= dot(de_mean(x), de_mean(y))/n-1\n",
    "    #print(y)\n",
    "    return y\n",
    "\n",
    "pagespeed = np.random.normal (3.0, 1.0, 1000)\n",
    "purchaseAmt = np.random.normal (50,10,1000)\n",
    "\n",
    "scatter(pagespeed, purchaseAmt)\n",
    "covariance (pagespeed, purchaseAmt)\n"
   ]
  },
  {
   "cell_type": "code",
   "execution_count": 8,
   "metadata": {
    "collapsed": false
   },
   "outputs": [
    {
     "data": {
      "text/plain": [
       "-0.89988015556984202"
      ]
     },
     "execution_count": 8,
     "metadata": {},
     "output_type": "execute_result"
    }
   ],
   "source": [
    "covariance(purchaseAmt, pagespeed)"
   ]
  },
  {
   "cell_type": "markdown",
   "metadata": {},
   "source": [
    "Now lets define a corelation by dividing it with the std deviation\n"
   ]
  },
  {
   "cell_type": "code",
   "execution_count": 17,
   "metadata": {
    "collapsed": false
   },
   "outputs": [
    {
     "name": "stdout",
     "output_type": "stream",
     "text": [
      "--------------------------\n"
     ]
    },
    {
     "data": {
      "text/plain": [
       "-0.13933043246045845"
      ]
     },
     "execution_count": 17,
     "metadata": {},
     "output_type": "execute_result"
    }
   ],
   "source": [
    "def corelation(x,y) :\n",
    "    stddevx = x.std()\n",
    "    stddevy = y.std()\n",
    "    return covariance(x,y) / stddevx / stddevy\n",
    "\n",
    "corelation (purchaseAmt, pagespeed)"
   ]
  },
  {
   "cell_type": "code",
   "execution_count": 23,
   "metadata": {
    "collapsed": false
   },
   "outputs": [
    {
     "data": {
      "text/plain": [
       "<matplotlib.collections.PathCollection at 0x972b6d8>"
      ]
     },
     "execution_count": 23,
     "metadata": {},
     "output_type": "execute_result"
    },
    {
     "data": {
      "image/png": "[encoded data removed]",
      "text/plain": [
       "<matplotlib.figure.Figure at 0x8d89e80>"
      ]
     },
     "metadata": {},
     "output_type": "display_data"
    }
   ],
   "source": [
    "purchaseAmt = 100 - pagespeed *3\n",
    "\n",
    "\n",
    "\n",
    "\n",
    "scatter (purchaseAmt, pagespeed)"
   ]
  },
  {
   "cell_type": "code",
   "execution_count": 24,
   "metadata": {
    "collapsed": false
   },
   "outputs": [
    {
     "name": "stdout",
     "output_type": "stream",
     "text": [
      "--------------------------\n"
     ]
    },
    {
     "data": {
      "text/plain": [
       "-1.336343953487459"
      ]
     },
     "execution_count": 24,
     "metadata": {},
     "output_type": "execute_result"
    }
   ],
   "source": [
    "corelation (pagespeed, purchaseAmt)"
   ]
  },
  {
   "cell_type": "markdown",
   "metadata": {
    "collapsed": true
   },
   "source": [
    "Conditional Probability - Example - First Generate Test Data, and then do Conditional Probability"
   ]
  },
  {
   "cell_type": "code",
   "execution_count": 16,
   "metadata": {
    "collapsed": false
   },
   "outputs": [],
   "source": [
    "from numpy import random\n",
    "\n",
    "random.seed(0)\n",
    "\n",
    "totals = {20:0, 30:0, 40:0, 50:0, 60:0}\n",
    "purchases = {20:0, 30:0, 40:0, 50:0, 60:0 }\n",
    "\n",
    "totalPurchases = 0\n",
    "for _ in range(10000):\n",
    "    ageDecade = random.choice([20,30,40,50,60])\n",
    "    purchaseProbability = float(ageDecade)/100\n",
    "    totals[ageDecade] += 1\n",
    "    # Randomly Add people now - Think to put a measure of randomness, dont add all 10000\n",
    "    if (random.random() <purchaseProbability): \n",
    "        totalPurchases += 1\n",
    "        purchases[ageDecade] += 1\n",
    "        "
   ]
  },
  {
   "cell_type": "code",
   "execution_count": 21,
   "metadata": {
    "collapsed": false
   },
   "outputs": [
    {
     "data": {
      "text/plain": [
       "{20: 1970, 30: 1975, 40: 1999, 50: 2057, 60: 1999}"
      ]
     },
     "execution_count": 21,
     "metadata": {},
     "output_type": "execute_result"
    }
   ],
   "source": [
    "totals\n",
    "#Total no of People in age Group"
   ]
  },
  {
   "cell_type": "code",
   "execution_count": 18,
   "metadata": {
    "collapsed": false
   },
   "outputs": [
    {
     "data": {
      "text/plain": [
       "{20: 410, 30: 592, 40: 800, 50: 1007, 60: 1230}"
      ]
     },
     "execution_count": 18,
     "metadata": {},
     "output_type": "execute_result"
    }
   ],
   "source": [
    "purchases\n",
    "# Total purchases in each age Group"
   ]
  },
  {
   "cell_type": "code",
   "execution_count": 22,
   "metadata": {
    "collapsed": false
   },
   "outputs": [
    {
     "data": {
      "text/plain": [
       "4039"
      ]
     },
     "execution_count": 22,
     "metadata": {},
     "output_type": "execute_result"
    }
   ],
   "source": [
    "totalPurchases"
   ]
  },
  {
   "cell_type": "code",
   "execution_count": null,
   "metadata": {
    "collapsed": true
   },
   "outputs": [],
   "source": []
  }
 ],
 "metadata": {
  "kernelspec": {
   "display_name": "Python 2",
   "language": "python",
   "name": "python2"
  },
  "language_info": {
   "codemirror_mode": {
    "name": "ipython",
    "version": 2
   },
   "file_extension": ".py",
   "mimetype": "text/x-python",
   "name": "python",
   "nbconvert_exporter": "python",
   "pygments_lexer": "ipython2",
   "version": "2.7.11"
  }
 },
 "nbformat": 4,
 "nbformat_minor": 0
}
